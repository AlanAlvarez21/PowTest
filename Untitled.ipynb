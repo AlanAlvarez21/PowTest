{
 "cells": [
  {
   "cell_type": "code",
   "execution_count": 5,
   "id": "823b3765",
   "metadata": {},
   "outputs": [],
   "source": [
    "import hashlib\n",
    "import pickle"
   ]
  },
  {
   "cell_type": "code",
   "execution_count": 6,
   "id": "09c1a753",
   "metadata": {},
   "outputs": [
    {
     "data": {
      "text/plain": [
       "'ae1869837b62c326c2b362662a0596cdc1abb778e2d51e91d435ddbe483183be'"
      ]
     },
     "execution_count": 6,
     "metadata": {},
     "output_type": "execute_result"
    }
   ],
   "source": [
    "m = hashlib.sha3_256()\n",
    "m.update(pickle.dumps(block))\n",
    "m.digest()\n",
    "m.hexdigest()\n"
   ]
  },
  {
   "cell_type": "code",
   "execution_count": null,
   "id": "152db623",
   "metadata": {},
   "outputs": [],
   "source": []
  }
 ],
 "metadata": {
  "kernelspec": {
   "display_name": "Python 3",
   "language": "python",
   "name": "python3"
  },
  "language_info": {
   "codemirror_mode": {
    "name": "ipython",
    "version": 3
   },
   "file_extension": ".py",
   "mimetype": "text/x-python",
   "name": "python",
   "nbconvert_exporter": "python",
   "pygments_lexer": "ipython3",
   "version": "3.8.8"
  }
 },
 "nbformat": 4,
 "nbformat_minor": 5
}
